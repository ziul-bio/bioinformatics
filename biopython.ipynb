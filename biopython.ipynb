{
 "cells": [
  {
   "cell_type": "markdown",
   "metadata": {},
   "source": [
    "# Getting statarted with biopython"
   ]
  },
  {
   "cell_type": "markdown",
   "metadata": {},
   "source": [
    "## Sequence Manipulations\n",
    "In Biopython, sequences are declared as objects and not as strings."
   ]
  },
  {
   "cell_type": "code",
   "execution_count": 1,
   "metadata": {},
   "outputs": [],
   "source": [
    "# The necessary module for sequence manipulation is Bio.Seq.\n",
    "from Bio.Seq import Seq\n",
    "\n",
    "# Creating a seq object\n",
    "seq_exemple = Seq(\"ATGCGAGCTAGGAAAAAA\")"
   ]
  },
  {
   "cell_type": "code",
   "execution_count": 2,
   "metadata": {},
   "outputs": [
    {
     "name": "stdout",
     "output_type": "stream",
     "text": [
      "TACGCTCGATCCTTTTTT\n",
      "TTTTTTCCTAGCTCGCAT\n"
     ]
    }
   ],
   "source": [
    "# Revese sequence and reverse complement sequence\n",
    "seq_complement = seq_exemple.complement() #TAC\n",
    "seq_reverse_complement = seq_exemple.reverse_complement() #CAT\n",
    "\n",
    "print(seq_complement)\n",
    "print(seq_reverse_complement)"
   ]
  },
  {
   "cell_type": "code",
   "execution_count": 4,
   "metadata": {},
   "outputs": [
    {
     "name": "stdout",
     "output_type": "stream",
     "text": [
      "AUGCGAGCUAGGAAAAAA\n",
      "ATGCGAGCTAGGAAAAAA\n"
     ]
    }
   ],
   "source": [
    "# Transcrition\n",
    "seq_rna = seq_exemple.transcribe() #AUG\n",
    "seq_dna = seq_rna.back_transcribe() #ATG\n",
    "\n",
    "print(seq_rna)\n",
    "print(seq_dna)"
   ]
  },
  {
   "cell_type": "code",
   "execution_count": 5,
   "metadata": {},
   "outputs": [
    {
     "name": "stdout",
     "output_type": "stream",
     "text": [
      "MRARKK\n",
      "MRARKK\n"
     ]
    }
   ],
   "source": [
    "# Translation\n",
    "seq_proteina_rna = seq_rna.translate() #M\n",
    "seq_proteina_dna = seq_dna.translate() #M\n",
    "\n",
    "print(seq_proteina_rna)\n",
    "print(seq_proteina_dna)"
   ]
  },
  {
   "cell_type": "markdown",
   "metadata": {},
   "source": [
    "## SeqIO Module\n",
    "Biopython presents the SeqIO module for reading and manipulating files in different formats.\n",
    "You can use the SeqIO.parse method to iterate through the file and get information such as: header title and complete sequence."
   ]
  },
  {
   "cell_type": "markdown",
   "metadata": {},
   "source": [
    "## The SeqRecord object  \n",
    "\n",
    "The SeqRecord (Sequence Record) class is defined in the Bio.SeqRecord module. This class allows higher level features such as identifiers and features to be associated with a sequence, and is the basic data type for the Bio.SeqIO sequence input/output interface.  \n",
    "\n",
    "The SeqRecord class itself is quite simple, and offers the following information as attributes:  \n",
    "\n",
    "   .seq – The sequence itself, typically a Seq object.  \n",
    "\n",
    "   .id – The primary ID used to identify the sequence – a string. In most cases this is something like an accession number.  \n",
    "\n",
    "   .name – A “common” name/id for the sequence – a string. In some cases this will be the same as the accession number, but it could also be a clone name. I think of this as being analogous to the LOCUS id in a GenBank record.  \n",
    "\n",
    "   .description – A human readable description or expressive name for the sequence – a string.  \n",
    "\n",
    "   .letter_annotations – Holds per-letter-annotations using a (restricted) dictionary of additional information about the letters in the sequence. The keys are the name of the information, and the information is contained in the value as a Python sequence (i.e. a list, tuple or string) with the same length as the sequence itself. This is often used for quality scores or secondary structure information.  \n",
    "\n",
    "   .annotations – A dictionary of additional information about the sequence. The keys are the name of the information, and the information is contained in the value. This allows the addition of more “unstructured” information to the sequence.  \n",
    "\n",
    "   .features – A list of SeqFeature objects with more structured information about the features on a sequence (e.g. position of genes on a genome, or domains on a protein sequence). \n",
    "\n",
    "   .dbxrefs - A list of database cross-references as strings.  "
   ]
  },
  {
   "cell_type": "code",
   "execution_count": 6,
   "metadata": {},
   "outputs": [
    {
     "name": "stdout",
     "output_type": "stream",
     "text": [
      "X81322.1\n",
      "X81322.1\n",
      "X81322.1 E.coli hpcC gene\n",
      "<bound method SeqRecord.format of SeqRecord(seq=Seq('GAAGTAGAAGGCGTGGGCCGCCTGGTGAACCGAATTGTTGAGTGAGGAAACAGC...CCA'), id='X81322.1', name='X81322.1', description='X81322.1 E.coli hpcC gene', dbxrefs=[])>\n",
      "GAAGTAGAAGGCGTGGGCCGCCTGGTGAACCGAATTGTTGAGTGAGGAAACAGCGAAATGAAAAAAGTAAATCATTGGATCAACGGCAAAAATGTTGCAGGTAACGACTACTTCCTGACCACCAATCCGGCAACGGGTGAAGTGCTGGCGGATGTGGCCTCTGGCGGTGAAGCGGAGATCAATCAGGCGGTAGCGACAGCGAAAGAGGCGTTCCCGAAATGGGCCAATCTGCCGATGAAAGAGCGTGCGCGCCTGATGCGCCGTCTGGGCGATCTGATCGACCAGAACGTGCCAGAGATCGCCGCGATGGAAACCGCGGACACGGGCCTGCCGATCCATCAGACCAAAAATGTGTTGATCCCACGCGCTTCTCACAACTTTGAATTTTTCGCGGAAGTCTGCCAGCAGATGAACGGCAAGACTTATCCGGTCGACGACAAGATGCTCAACTACACGCTGGTGCAGCCGGTAGGCGTTTGTGCACTGGTGTCACCGTGGAACGTGCCGTTTATGACCGCCACCTGGAAGGTCGCGCCGTGTCTGGCGCTGGGCATTACCGCGGTGCTGAAGATGTCCGAACTCTCCCCGCTGACCGCTGACCGCCTGGGTGAGCTGGCGCTGGAAGCCGGTATTCCGGCGGGCGTTCTGAACGTGGTACAGGGCTACGGCGCAACCGCAGGCGATGCGCTGGTCCGTCATCATGACGTGCGTGCCGTGTCGTTCACCGGCGGTACGGCGACCGGGCGCAATATCATGAAAAACGCCGGGCTGAAAAAATACTCCATGGAACTGGGCGGTAAATCGCCGGTGCTGATTTTTGAAGATGCCGATATTGAGCGCGCGCTGGACGCCGCCCTGTTCACCATCTTCTCGATCAACGGCGAGCGCTGCACCGCCGGTTCGCGCATCTTTATTCAACAAAGCATCTACCCGGAATTCGTGAAATTTGCCGAACGCGCCAACCGTGTGCGCGTGGGCGATCCGACCGATCCGAATACCCAGGTTGGGGCGCTTATCAGCCAGCAACACTGGGAAAAAGTCTCCGGCTATATCCGTCTGGGCATTGAAGAAGGCGCCACCCTGCTGGCGGGCGGCCCGGATAAACCGTCTGACCTGCCTGCACACCTGAAAGGCGGCAACTTCCTGCGCCCAACGGTGCTGGCGGACGTAGATAACCGTATGCGCGTTGCCCAGGAAGAGATTTTCGGGCCGGTCGCCTGCCTGCTGCCGTTTAAAGACGAAGCCGAAGCGTTACGCCTGGCAAACGACGTGGAGTATGGCCTCGCGTCGTACATCTGGACACAGGATGTCAGCAAAGTGCTGCGTCTGGCGCGCGGCATTGAAGCAGGCATGGTGTTCGTCAACACCCAGTTCGTGCGTGACCTGCGCCACGCATTTGGCGGCGTAAAACCTCGCACCGGGCGTGAAGGCGGTGGATACAGTTCGAAGTGTTCGCGGAAATGAAGAAGAACGTCTGCATTCCATGGCGGACCATCCCA\n"
     ]
    }
   ],
   "source": [
    "from Bio import SeqIO\n",
    "\n",
    "for fasta in SeqIO.parse(\"ecoli_gene.fasta\",\"fasta\"):\n",
    "    # prints id of header\n",
    "    print (fasta.id)\n",
    "\n",
    "    # prints seq name\n",
    "    print(fasta.name)\n",
    "\n",
    "    # printing other info\n",
    "    print(fasta.description)\n",
    "    print(fasta.format)\n",
    "\n",
    "    # print whole seq\n",
    "    print (fasta.seq)\n"
   ]
  },
  {
   "cell_type": "code",
   "execution_count": 7,
   "metadata": {},
   "outputs": [
    {
     "name": "stdout",
     "output_type": "stream",
     "text": [
      "GAAGTAGAAGGCGTGGGCCGCCTGGTGAACCGAATTGTTGAGTGAGGAAACAGCGAAATGAAAAAAGTAAATCATTGGATCAACGGCAAAAATGTTGCAGGTAACGACTACTTCCTGACCACCAATCCGGCAACGGGTGAAGTGCTGGCGGATGTGGCCTCTGGCGGTGAAGCGGAGATCAATCAGGCGGTAGCGACAGCGAAAGAGGCGTTCCCGAAATGGGCCAATCTGCCGATGAAAGAGCGTGCGCGCCTGATGCGCCGTCTGGGCGATCTGATCGACCAGAACGTGCCAGAGATCGCCGCGATGGAAACCGCGGACACGGGCCTGCCGATCCATCAGACCAAAAATGTGTTGATCCCACGCGCTTCTCACAACTTTGAATTTTTCGCGGAAGTCTGCCAGCAGATGAACGGCAAGACTTATCCGGTCGACGACAAGATGCTCAACTACACGCTGGTGCAGCCGGTAGGCGTTTGTGCACTGGTGTCACCGTGGAACGTGCCGTTTATGACCGCCACCTGGAAGGTCGCGCCGTGTCTGGCGCTGGGCATTACCGCGGTGCTGAAGATGTCCGAACTCTCCCCGCTGACCGCTGACCGCCTGGGTGAGCTGGCGCTGGAAGCCGGTATTCCGGCGGGCGTTCTGAACGTGGTACAGGGCTACGGCGCAACCGCAGGCGATGCGCTGGTCCGTCATCATGACGTGCGTGCCGTGTCGTTCACCGGCGGTACGGCGACCGGGCGCAATATCATGAAAAACGCCGGGCTGAAAAAATACTCCATGGAACTGGGCGGTAAATCGCCGGTGCTGATTTTTGAAGATGCCGATATTGAGCGCGCGCTGGACGCCGCCCTGTTCACCATCTTCTCGATCAACGGCGAGCGCTGCACCGCCGGTTCGCGCATCTTTATTCAACAAAGCATCTACCCGGAATTCGTGAAATTTGCCGAACGCGCCAACCGTGTGCGCGTGGGCGATCCGACCGATCCGAATACCCAGGTTGGGGCGCTTATCAGCCAGCAACACTGGGAAAAAGTCTCCGGCTATATCCGTCTGGGCATTGAAGAAGGCGCCACCCTGCTGGCGGGCGGCCCGGATAAACCGTCTGACCTGCCTGCACACCTGAAAGGCGGCAACTTCCTGCGCCCAACGGTGCTGGCGGACGTAGATAACCGTATGCGCGTTGCCCAGGAAGAGATTTTCGGGCCGGTCGCCTGCCTGCTGCCGTTTAAAGACGAAGCCGAAGCGTTACGCCTGGCAAACGACGTGGAGTATGGCCTCGCGTCGTACATCTGGACACAGGATGTCAGCAAAGTGCTGCGTCTGGCGCGCGGCATTGAAGCAGGCATGGTGTTCGTCAACACCCAGTTCGTGCGTGACCTGCGCCACGCATTTGGCGGCGTAAAACCTCGCACCGGGCGTGAAGGCGGTGGATACAGTTCGAAGTGTTCGCGGAAATGAAGAAGAACGTCTGCATTCCATGGCGGACCATCCCA\n"
     ]
    }
   ],
   "source": [
    "seq1= fasta.seq\n",
    "print(seq1)"
   ]
  },
  {
   "cell_type": "code",
   "execution_count": 8,
   "metadata": {},
   "outputs": [
    {
     "data": {
      "text/plain": [
       "Bio.Seq.Seq"
      ]
     },
     "execution_count": 8,
     "metadata": {},
     "output_type": "execute_result"
    }
   ],
   "source": [
    "type(seq1)"
   ]
  },
  {
   "cell_type": "markdown",
   "metadata": {},
   "source": [
    "### The SeqIO module \n",
    "Is also used to manipulate other formats, such as the GenBank format, which stores information from protein annotations in genomes."
   ]
  },
  {
   "cell_type": "code",
   "execution_count": null,
   "metadata": {},
   "outputs": [],
   "source": [
    "from Bio import SeqIO\n",
    "for seq_record in SeqIO.parse(\"ls_orchid.gbk\", \"genbank\"):\n",
    "    print(seq_record.id)\n",
    "    print(repr(seq_record.seq))\n",
    "    print(len(seq_record))"
   ]
  }
 ],
 "metadata": {
  "interpreter": {
   "hash": "9e820310647435c0c894548b755814a2163c0df3544575f91f1c01fe1f78532b"
  },
  "kernelspec": {
   "display_name": "Python 3.9.6 64-bit ('bio_env': conda)",
   "name": "python3"
  },
  "language_info": {
   "codemirror_mode": {
    "name": "ipython",
    "version": 3
   },
   "file_extension": ".py",
   "mimetype": "text/x-python",
   "name": "python",
   "nbconvert_exporter": "python",
   "pygments_lexer": "ipython3",
   "version": "3.8.12"
  },
  "orig_nbformat": 4
 },
 "nbformat": 4,
 "nbformat_minor": 2
}
