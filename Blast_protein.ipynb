{
 "cells": [
  {
   "cell_type": "markdown",
   "metadata": {},
   "source": [
    "## Blast (Basic Local Alignment Search Tool)\n",
    "BLAST finds regions of similarity between biological sequences. The program compares nucleotide or protein sequences to sequence databases and calculates the statistical significance [¹](https://blast.ncbi.nlm.nih.gov/Blast.cgi).\n",
    "\n",
    "Autor: Luiz Carlos Vieira"
   ]
  },
  {
   "cell_type": "markdown",
   "metadata": {},
   "source": [
    "### Blast of the protein sequences"
   ]
  },
  {
   "cell_type": "code",
   "execution_count": 16,
   "metadata": {},
   "outputs": [],
   "source": [
    "## Importing modules to do the blast\n",
    "from Bio.Blast import NCBIWWW\n",
    "from Bio.Blast import NCBIXML"
   ]
  },
  {
   "cell_type": "code",
   "execution_count": null,
   "metadata": {},
   "outputs": [],
   "source": [
    "prot_list = ['MRTSCSDTSTSKSCRRRATRWRRRNARSTPRRRRCGRIRRCNRTFMTRCNRSRRPA',\n",
    "'MKPENLVACHECDLLFWRPPRLRALAAHCPRCRARVGGSAHGRPALDRRCAIALRS',\n",
    "'MLPLDLPEPEIRPRSRWIPSLVWIVPLVCALIGLALVYRGIAATGPTITVTFANPK*']"
   ]
  },
  {
   "cell_type": "code",
   "execution_count": 21,
   "metadata": {},
   "outputs": [
    {
     "name": "stdout",
     "output_type": "stream",
     "text": [
      "******************************************Alignment******************************************\n",
      "sequence: pdb|7ANE|at Chain at, mS66 [Leishmania major]\n",
      "length: 397\n",
      "e value: 1.2372\n",
      "PRLRALAAHCPRCRARVGGSAHGRPALDRRCAIALRS\n",
      "PR+   +AHCP C  R   +A GR A +    + L +\n",
      "PRITEWSAHCPACAWRTNMTAIGRKAQEEGQYLGLET\n",
      "\n",
      "******************************************Alignment******************************************\n",
      "sequence: pdb|7D5K|A Chain A, Cellulose synthase [Gossypium hirsutum] >pdb|7D5K|B Chain B, Cellulose synthase [Gossypium hirsutum] >pdb|7D5K|C Chain C, Cellulose synthase [Gossypium hirsutum]\n",
      "length: 1042\n",
      "e value: 4.73142\n",
      "LVACHECDLLFWRPP---RLRALAAHCPRCRAR\n",
      " VAC+EC     RP      R     CP+C+ R\n",
      "FVACNECGFPVCRPCYEYERREGTQQCPQCKTR\n",
      "\n"
     ]
    }
   ],
   "source": [
    "# protein blast to the protein 2 in the list using the pdb database\n",
    "blast_handle = NCBIWWW.qblast('blastp', 'pdb', prot_list[1])\n",
    "\n",
    "# Saving blast results to a variable blast_record\n",
    "blast_record = NCBIXML.read(blast_handle)\n",
    "\n",
    "# Visualizing the results of blast\n",
    "for alignment in blast_record.alignments:\n",
    "    for hsp in alignment.hsps:\n",
    "        print('******************************************Alignment******************************************')\n",
    "        print('sequence:', alignment.title)\n",
    "        print('length:', alignment.length)\n",
    "        print('e value:', hsp.expect)\n",
    "        print(hsp.query)\n",
    "        print(hsp.match)\n",
    "        print(hsp.sbjct)\n",
    "        print()"
   ]
  },
  {
   "cell_type": "markdown",
   "metadata": {},
   "source": [
    "## Defining a function to blast"
   ]
  },
  {
   "cell_type": "code",
   "execution_count": 18,
   "metadata": {},
   "outputs": [],
   "source": [
    "def blast(blast_type, datadabe, proten_sequence):\n",
    "    # Realizing a protein blast\n",
    "    blast_handle = NCBIWWW.qblast(blast_type, datadabe, proten_sequence)\n",
    "\n",
    "    # Saving blast results to a variable blast_record\n",
    "    blast_record = NCBIXML.read(blast_handle)\n",
    "\n",
    "    # Visualizing the results of blast\n",
    "    for alignment in blast_record.alignments:\n",
    "        for hsp in alignment.hsps:\n",
    "            print('******************************************Alignment******************************************')\n",
    "            print('sequence:', alignment.title)\n",
    "            print('length:', alignment.length)\n",
    "            print('e value:', hsp.expect)\n",
    "            print(hsp.query)\n",
    "            print(hsp.match)\n",
    "            print(hsp.sbjct)\n",
    "            print()"
   ]
  },
  {
   "cell_type": "code",
   "execution_count": 19,
   "metadata": {},
   "outputs": [
    {
     "name": "stdout",
     "output_type": "stream",
     "text": [
      "******************************************Alignment******************************************\n",
      "sequence: sp|Q6GMD3.1| RecName: Full=Shiftless antiviral inhibitor of ribosomal frameshifting protein homolog; Short=SHFL; AltName: Full=Repressor of yield of DENV protein homolog [Xenopus laevis]\n",
      "length: 305\n",
      "e value: 0.378018\n",
      "ACHECDLLFWRPPRLRALAAHCPRCRAR\n",
      "AC ECD ++WR    R   + C RCR +\n",
      "ACKECDYMWWRRVPQRKEVSRCQRCRKK\n",
      "\n",
      "******************************************Alignment******************************************\n",
      "sequence: sp|O55005.1| RecName: Full=Roundabout homolog 1; Flags: Precursor [Rattus norvegicus]\n",
      "length: 1651\n",
      "e value: 0.392471\n",
      "PRLRALAAHCPRCRARVGGSAHGRPALDRRCAIALRS\n",
      "P+L ++ A   R   R GGS  GR ALD R    LR+\n",
      "PKLASIEARADRSSDRKGGSYKGREALDGRQVTDLRT\n",
      "\n",
      "******************************************Alignment******************************************\n",
      "sequence: sp|O89026.1| RecName: Full=Roundabout homolog 1; Flags: Precursor [Mus musculus]\n",
      "length: 1612\n",
      "e value: 0.502584\n",
      "PRLRALAAHCPRCRARVGGSAHGRPALDRRCAIALRS\n",
      "P+L ++ A   R   R GGS  GR ALD R    LR+\n",
      "PKLASIEARTDRSSDRKGGSYKGREALDGRQVTDLRT\n",
      "\n",
      "******************************************Alignment******************************************\n",
      "sequence: sp|P0AD03.1| RecName: Full=Intermembrane transport protein YebS [Escherichia coli K-12] >sp|P0AD04.1| RecName: Full=Intermembrane transport protein YebS [Escherichia coli O157:H7]\n",
      "length: 427\n",
      "e value: 0.768821\n",
      "CHECDLLFWRPPRLRALAAHCPRCRARV\n",
      "C +CD+LF  P      +A+CPRC+A++\n",
      "CPQCDMLFSLPEINSHQSAYCPRCQAKI\n",
      "\n",
      "******************************************Alignment******************************************\n",
      "sequence: sp|A0JP89.1| RecName: Full=Shiftless antiviral inhibitor of ribosomal frameshifting protein homolog; Short=SHFL; AltName: Full=Repressor of yield of DENV protein homolog [Xenopus tropicalis]\n",
      "length: 304\n",
      "e value: 1.82507\n",
      "VACHECDLLFWRPPRLRALAAHCPRCRARVG\n",
      " AC ECD ++WR    R   + C RCR +  \n",
      "FACKECDFVWWRRVPQRKEVSRCHRCRKKFD\n",
      "\n",
      "******************************************Alignment******************************************\n",
      "sequence: sp|A1A199.1| RecName: Full=Putative pre-16S rRNA nuclease [Bifidobacterium adolescentis ATCC 15703]\n",
      "length: 151\n",
      "e value: 2.10162\n",
      "RLRALAAHCPRCRARVGGSAHGRPALDRRCAIAL\n",
      "RL  + AH     AR+GG  H RP +D++ A+ +\n",
      "RLTTVTAHHQLFDARIGGRKH-RPMVDQQSAVVI\n",
      "\n",
      "******************************************Alignment******************************************\n",
      "sequence: sp|P23799.1| RecName: Full=Putative adenylate cyclase regulatory protein; AltName: Full=Leucine repeat protein; AltName: Full=VSG expression site-associated protein F14.9 [Trypanosoma brucei brucei]\n",
      "length: 630\n",
      "e value: 3.48295\n",
      "QMKPENLVACHECDLLFWRPPRLRALAAHCPRCRARVGGSAHGRPALDRRCA\n",
      "++ P   V C  C +  WR          CP C+ R+GG     P L R  A\n",
      "ELLPCRHVFCTACVVQRWR----------CPSCQRRIGGRRKANPHLLREIA\n",
      "\n",
      "******************************************Alignment******************************************\n",
      "sequence: sp|Q9WY22.1| RecName: Full=Primosomal protein N'; AltName: Full=ATP-dependent helicase PriA [Thermotoga maritima MSB8]\n",
      "length: 736\n",
      "e value: 3.90094\n",
      "VACHECDLLFWRPPRLRALAAHCPRCRARVGGSAHGRPALDR\n",
      "+ CH+C        R   L   CPRC  R+ G   G   ++R\n",
      "LKCHQCG-------REYGLVESCPRCGGRLVGRTAGTERVER\n",
      "\n",
      "******************************************Alignment******************************************\n",
      "sequence: sp|G5ED65.1| RecName: Full=Protein ver-1; AltName: Full=Vascular endothelial growth factor receptor related 1 [Caenorhabditis elegans]\n",
      "length: 1083\n",
      "e value: 4.13182\n",
      "CDLLFWRP----PRLRALAAHCPRCRARV\n",
      "C L++  P    P+L  LA  CP+C++R+\n",
      "CHLVYIEPNGNAPKLGELAFECPQCQSRL\n",
      "\n",
      "******************************************Alignment******************************************\n",
      "sequence: sp|A2QHH4.1| RecName: Full=Vacuolar protein sorting/targeting protein 10; AltName: Full=Carboxypeptidase Y receptor; Short=CPY receptor; AltName: Full=Sortilin vps10; AltName: Full=Vacuolar carboxypeptidase sorting receptor vps10; Flags: Precursor [Aspergillus niger CBS 513.88]\n",
      "length: 1472\n",
      "e value: 4.49309\n",
      "WRPPRLRALAAHCPRCRARVGGSAHGRPALDRRCAI\n",
      "WR P + ++  +CP  RA      +  P  D  CA+\n",
      "WREPHVHSIGENCPCTRADFECDYNYEPQSDGSCAL\n",
      "\n"
     ]
    }
   ],
   "source": [
    "# protein blast to the protein 2 in the list using the swissprot database\n",
    "blast('blastp', 'swissprot', prot_list[1])"
   ]
  },
  {
   "cell_type": "code",
   "execution_count": 20,
   "metadata": {},
   "outputs": [
    {
     "name": "stdout",
     "output_type": "stream",
     "text": [
      "******************************************Alignment******************************************\n",
      "sequence: pdb|6QB7|A Structure of the H1 domain of human KCTD16 [Homo sapiens] >pdb|6QB7|B Structure of the H1 domain of human KCTD16 [Homo sapiens] >pdb|6QB7|C Structure of the H1 domain of human KCTD16 [Homo sapiens] >pdb|6QB7|D Structure of the H1 domain of human KCTD16 [Homo sapiens] >pdb|6QB7|E Structure of the H1 domain of human KCTD16 [Homo sapiens]\n",
      "length: 163\n",
      "e value: 4.95091\n",
      "TPRRRRCGRIRRCNRTFMTRCNRSRRP\n",
      " PR   CGRI      F    N SR P\n",
      "VPRILVCGRISLAKEVFGETLNESRDP\n",
      "\n",
      "******************************************Alignment******************************************\n",
      "sequence: pdb|7ANE|at Chain at, mS66 [Leishmania major]\n",
      "length: 397\n",
      "e value: 1.2372\n",
      "PRLRALAAHCPRCRARVGGSAHGRPALDRRCAIALRS\n",
      "PR+   +AHCP C  R   +A GR A +    + L +\n",
      "PRITEWSAHCPACAWRTNMTAIGRKAQEEGQYLGLET\n",
      "\n",
      "******************************************Alignment******************************************\n",
      "sequence: pdb|7D5K|A Chain A, Cellulose synthase [Gossypium hirsutum] >pdb|7D5K|B Chain B, Cellulose synthase [Gossypium hirsutum] >pdb|7D5K|C Chain C, Cellulose synthase [Gossypium hirsutum]\n",
      "length: 1042\n",
      "e value: 4.73142\n",
      "LVACHECDLLFWRPP---RLRALAAHCPRCRAR\n",
      " VAC+EC     RP      R     CP+C+ R\n",
      "FVACNECGFPVCRPCYEYERREGTQQCPQCKTR\n",
      "\n",
      "******************************************Alignment******************************************\n",
      "sequence: pdb|4IGJ|A Crystal structure of Maleylacetoacetate isomerase from Anaeromyxobacter dehalogenans 2CP-1, target EFI-507175 [Anaeromyxobacter dehalogenans 2CP-1] >pdb|4IGJ|B Crystal structure of Maleylacetoacetate isomerase from Anaeromyxobacter dehalogenans 2CP-1, target EFI-507175 [Anaeromyxobacter dehalogenans 2CP-1] >pdb|4KAE|A Crystal structure of Maleylacetoacetate isomerase from Anaeromyxobacter dehalogenans 2CP-1, TARGET EFI-507175, with bound dicarboxyethyl glutathione and citrate in the active site [Anaeromyxobacter dehalogenans 2CP-1] >pdb|4KAE|B Crystal structure of Maleylacetoacetate isomerase from Anaeromyxobacter dehalogenans 2CP-1, TARGET EFI-507175, with bound dicarboxyethyl glutathione and citrate in the active site [Anaeromyxobacter dehalogenans 2CP-1] >pdb|4KDY|A Crystal structure of maleylacetoacetate isomerase from Anaeromyxobacter dehalogenans 2CP-1, Target EFI-507175, with bound GSH in the active site [Anaeromyxobacter dehalogenans 2CP-1] >pdb|4KDY|B Crystal structure of maleylacetoacetate isomerase from Anaeromyxobacter dehalogenans 2CP-1, Target EFI-507175, with bound GSH in the active site [Anaeromyxobacter dehalogenans 2CP-1]\n",
      "length: 242\n",
      "e value: 2.3344\n",
      "IRPRSRWIPSLVWIVPLVCALIGLALVYRGI\n",
      "+R  S W  S  W V L  AL GLA  YR +\n",
      "LRLYSYWRSSSAWRVRLGLALKGLAYEYRAV\n",
      "\n"
     ]
    }
   ],
   "source": [
    "# For loop to blast all sequences from a list of protein sequence\n",
    "for i in range(0, len(prot_list)):\n",
    "    blast(\"blastp\", \"pdb\", prot_list[i])"
   ]
  }
 ],
 "metadata": {
  "interpreter": {
   "hash": "2f608992be8c0fbf3f95dc021636af8a8f823125a2cacc4ff6a7e1995838e604"
  },
  "kernelspec": {
   "display_name": "Python 3.8.8 64-bit ('base': conda)",
   "language": "python",
   "name": "python3"
  },
  "language_info": {
   "codemirror_mode": {
    "name": "ipython",
    "version": 3
   },
   "file_extension": ".py",
   "mimetype": "text/x-python",
   "name": "python",
   "nbconvert_exporter": "python",
   "pygments_lexer": "ipython3",
   "version": "3.8.12"
  },
  "orig_nbformat": 4
 },
 "nbformat": 4,
 "nbformat_minor": 2
}
